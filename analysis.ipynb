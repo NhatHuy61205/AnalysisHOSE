{
 "cells": [
  {
   "cell_type": "markdown",
   "metadata": {},
   "source": [
    "## Đọc file\n"
   ]
  },
  {
   "cell_type": "code",
   "execution_count": 1,
   "metadata": {},
   "outputs": [],
   "source": [
    "import pandas as pd"
   ]
  },
  {
   "cell_type": "code",
   "execution_count": null,
   "metadata": {},
   "outputs": [],
   "source": [
    "df_ = pd.read_excel(\"Sample_midterm_test_quantitative_FINAL_202.xlsx\", engine=\"openpyxl\")\n",
    "df = df_.copy()"
   ]
  },
  {
   "cell_type": "code",
   "execution_count": 4,
   "metadata": {},
   "outputs": [
    {
     "name": "stdout",
     "output_type": "stream",
     "text": [
      "<class 'pandas.core.frame.DataFrame'>\n",
      "RangeIndex: 228 entries, 0 to 227\n",
      "Data columns (total 35 columns):\n",
      " #   Column               Non-Null Count  Dtype  \n",
      "---  ------               --------------  -----  \n",
      " 0   ID                   228 non-null    object \n",
      " 1   Company              228 non-null    object \n",
      " 2   Sàn                  228 non-null    object \n",
      " 3   Year                 228 non-null    int64  \n",
      " 4   cashratio            228 non-null    float64\n",
      " 5   ebit                 228 non-null    int64  \n",
      " 6   quickratio           228 non-null    float64\n",
      " 7   currentratio         228 non-null    float64\n",
      " 8   assetturnover        228 non-null    float64\n",
      " 9   cogs                 228 non-null    int64  \n",
      " 10  interestexpense      228 non-null    int64  \n",
      " 11  sellingexp           228 non-null    int64  \n",
      " 12  adminexp             228 non-null    int64  \n",
      " 13  taxexpense           228 non-null    int64  \n",
      " 14  eps                  228 non-null    int64  \n",
      " 15  dilutedeps           228 non-null    int64  \n",
      " 16  currentassets        228 non-null    int64  \n",
      " 17  cash                 228 non-null    int64  \n",
      " 18  cashequivalents      228 non-null    int64  \n",
      " 19  acctsreceivables     228 non-null    int64  \n",
      " 20  inventory            228 non-null    int64  \n",
      " 21  longtermasset        228 non-null    int64  \n",
      " 22  ppe                  228 non-null    int64  \n",
      " 23  totassets            228 non-null    int64  \n",
      " 24  totalliabilities     228 non-null    int64  \n",
      " 25  currentliabilities   228 non-null    int64  \n",
      " 26  accountspayable      228 non-null    int64  \n",
      " 27  longtermliabilities  228 non-null    int64  \n",
      " 28  totalequity          228 non-null    int64  \n",
      " 29  shareownerequity     228 non-null    int64  \n",
      " 30  retained_earnings    228 non-null    int64  \n",
      " 31  cfo                  228 non-null    int64  \n",
      " 32  icf                  228 non-null    int64  \n",
      " 33  financingcf          228 non-null    int64  \n",
      " 34  dividendpaid         228 non-null    int64  \n",
      "dtypes: float64(4), int64(28), object(3)\n",
      "memory usage: 62.5+ KB\n"
     ]
    }
   ],
   "source": [
    "df.info()"
   ]
  },
  {
   "cell_type": "code",
   "execution_count": 6,
   "metadata": {},
   "outputs": [
    {
     "data": {
      "text/html": [
       "<div>\n",
       "<style scoped>\n",
       "    .dataframe tbody tr th:only-of-type {\n",
       "        vertical-align: middle;\n",
       "    }\n",
       "\n",
       "    .dataframe tbody tr th {\n",
       "        vertical-align: top;\n",
       "    }\n",
       "\n",
       "    .dataframe thead th {\n",
       "        text-align: right;\n",
       "    }\n",
       "</style>\n",
       "<table border=\"1\" class=\"dataframe\">\n",
       "  <thead>\n",
       "    <tr style=\"text-align: right;\">\n",
       "      <th></th>\n",
       "      <th>ID</th>\n",
       "      <th>Company</th>\n",
       "      <th>Sàn</th>\n",
       "      <th>Year</th>\n",
       "      <th>cashratio</th>\n",
       "      <th>ebit</th>\n",
       "      <th>quickratio</th>\n",
       "      <th>currentratio</th>\n",
       "      <th>assetturnover</th>\n",
       "      <th>cogs</th>\n",
       "      <th>...</th>\n",
       "      <th>currentliabilities</th>\n",
       "      <th>accountspayable</th>\n",
       "      <th>longtermliabilities</th>\n",
       "      <th>totalequity</th>\n",
       "      <th>shareownerequity</th>\n",
       "      <th>retained_earnings</th>\n",
       "      <th>cfo</th>\n",
       "      <th>icf</th>\n",
       "      <th>financingcf</th>\n",
       "      <th>dividendpaid</th>\n",
       "    </tr>\n",
       "  </thead>\n",
       "  <tbody>\n",
       "    <tr>\n",
       "      <th>0</th>\n",
       "      <td>AAT</td>\n",
       "      <td>Tập đoàn Tiên Sơn Thanh Hóa</td>\n",
       "      <td>HOSE</td>\n",
       "      <td>2022</td>\n",
       "      <td>0.07</td>\n",
       "      <td>133300000000</td>\n",
       "      <td>2.01</td>\n",
       "      <td>2.09</td>\n",
       "      <td>0.95</td>\n",
       "      <td>961600000000</td>\n",
       "      <td>...</td>\n",
       "      <td>212700000000</td>\n",
       "      <td>7795000000</td>\n",
       "      <td>109200000000</td>\n",
       "      <td>731500000000</td>\n",
       "      <td>638000000000</td>\n",
       "      <td>89030000000</td>\n",
       "      <td>-238500000000</td>\n",
       "      <td>148000000000</td>\n",
       "      <td>12980000000</td>\n",
       "      <td>0</td>\n",
       "    </tr>\n",
       "    <tr>\n",
       "      <th>1</th>\n",
       "      <td>ABR</td>\n",
       "      <td>Đầu tư Nhãn Hiệu Việt</td>\n",
       "      <td>HOSE</td>\n",
       "      <td>2022</td>\n",
       "      <td>0.26</td>\n",
       "      <td>28250000000</td>\n",
       "      <td>0.94</td>\n",
       "      <td>2.38</td>\n",
       "      <td>0.30</td>\n",
       "      <td>104200000000</td>\n",
       "      <td>...</td>\n",
       "      <td>82430000000</td>\n",
       "      <td>54150000000</td>\n",
       "      <td>4598000000</td>\n",
       "      <td>285200000000</td>\n",
       "      <td>200000000000</td>\n",
       "      <td>29390000000</td>\n",
       "      <td>48360000000</td>\n",
       "      <td>-76230000000</td>\n",
       "      <td>0</td>\n",
       "      <td>0</td>\n",
       "    </tr>\n",
       "    <tr>\n",
       "      <th>2</th>\n",
       "      <td>ABT</td>\n",
       "      <td>Thủy sản Bến Tre</td>\n",
       "      <td>HOSE</td>\n",
       "      <td>2022</td>\n",
       "      <td>0.86</td>\n",
       "      <td>55440000000</td>\n",
       "      <td>1.15</td>\n",
       "      <td>2.03</td>\n",
       "      <td>1.01</td>\n",
       "      <td>616600000000</td>\n",
       "      <td>...</td>\n",
       "      <td>148100000000</td>\n",
       "      <td>34500000000</td>\n",
       "      <td>3582000000</td>\n",
       "      <td>470900000000</td>\n",
       "      <td>143900000000</td>\n",
       "      <td>61090000000</td>\n",
       "      <td>133800000000</td>\n",
       "      <td>-19250000000</td>\n",
       "      <td>-53850000000</td>\n",
       "      <td>-23270000000</td>\n",
       "    </tr>\n",
       "    <tr>\n",
       "      <th>3</th>\n",
       "      <td>ACC</td>\n",
       "      <td>Đầu tư và XD Bình Dương ACC</td>\n",
       "      <td>HOSE</td>\n",
       "      <td>2022</td>\n",
       "      <td>0.13</td>\n",
       "      <td>69230000000</td>\n",
       "      <td>1.12</td>\n",
       "      <td>2.17</td>\n",
       "      <td>0.39</td>\n",
       "      <td>642200000000</td>\n",
       "      <td>...</td>\n",
       "      <td>872300000000</td>\n",
       "      <td>98750000000</td>\n",
       "      <td>11380000000</td>\n",
       "      <td>1216000000000</td>\n",
       "      <td>1050000000000</td>\n",
       "      <td>82330000000</td>\n",
       "      <td>-438800000000</td>\n",
       "      <td>-270100000000</td>\n",
       "      <td>727100000000</td>\n",
       "      <td>-83670000000</td>\n",
       "    </tr>\n",
       "    <tr>\n",
       "      <th>4</th>\n",
       "      <td>ACG</td>\n",
       "      <td>Gỗ An Cường</td>\n",
       "      <td>HOSE</td>\n",
       "      <td>2022</td>\n",
       "      <td>0.25</td>\n",
       "      <td>622100000000</td>\n",
       "      <td>0.83</td>\n",
       "      <td>2.49</td>\n",
       "      <td>0.86</td>\n",
       "      <td>4475000000000</td>\n",
       "      <td>...</td>\n",
       "      <td>1542000000000</td>\n",
       "      <td>347500000000</td>\n",
       "      <td>12670000000</td>\n",
       "      <td>3912000000000</td>\n",
       "      <td>1358000000000</td>\n",
       "      <td>615600000000</td>\n",
       "      <td>388400000000</td>\n",
       "      <td>72600000000</td>\n",
       "      <td>-172400000000</td>\n",
       "      <td>-464700000000</td>\n",
       "    </tr>\n",
       "  </tbody>\n",
       "</table>\n",
       "<p>5 rows × 35 columns</p>\n",
       "</div>"
      ],
      "text/plain": [
       "    ID                      Company   Sàn  Year  cashratio          ebit  \\\n",
       "0  AAT  Tập đoàn Tiên Sơn Thanh Hóa  HOSE  2022       0.07  133300000000   \n",
       "1  ABR        Đầu tư Nhãn Hiệu Việt  HOSE  2022       0.26   28250000000   \n",
       "2  ABT             Thủy sản Bến Tre  HOSE  2022       0.86   55440000000   \n",
       "3  ACC  Đầu tư và XD Bình Dương ACC  HOSE  2022       0.13   69230000000   \n",
       "4  ACG                  Gỗ An Cường  HOSE  2022       0.25  622100000000   \n",
       "\n",
       "   quickratio  currentratio  assetturnover           cogs  ...  \\\n",
       "0        2.01          2.09           0.95   961600000000  ...   \n",
       "1        0.94          2.38           0.30   104200000000  ...   \n",
       "2        1.15          2.03           1.01   616600000000  ...   \n",
       "3        1.12          2.17           0.39   642200000000  ...   \n",
       "4        0.83          2.49           0.86  4475000000000  ...   \n",
       "\n",
       "   currentliabilities  accountspayable  longtermliabilities    totalequity  \\\n",
       "0        212700000000       7795000000         109200000000   731500000000   \n",
       "1         82430000000      54150000000           4598000000   285200000000   \n",
       "2        148100000000      34500000000           3582000000   470900000000   \n",
       "3        872300000000      98750000000          11380000000  1216000000000   \n",
       "4       1542000000000     347500000000          12670000000  3912000000000   \n",
       "\n",
       "   shareownerequity  retained_earnings           cfo           icf  \\\n",
       "0      638000000000        89030000000 -238500000000  148000000000   \n",
       "1      200000000000        29390000000   48360000000  -76230000000   \n",
       "2      143900000000        61090000000  133800000000  -19250000000   \n",
       "3     1050000000000        82330000000 -438800000000 -270100000000   \n",
       "4     1358000000000       615600000000  388400000000   72600000000   \n",
       "\n",
       "    financingcf  dividendpaid  \n",
       "0   12980000000             0  \n",
       "1             0             0  \n",
       "2  -53850000000  -23270000000  \n",
       "3  727100000000  -83670000000  \n",
       "4 -172400000000 -464700000000  \n",
       "\n",
       "[5 rows x 35 columns]"
      ]
     },
     "execution_count": 6,
     "metadata": {},
     "output_type": "execute_result"
    }
   ],
   "source": [
    "df.head()"
   ]
  },
  {
   "cell_type": "markdown",
   "metadata": {},
   "source": [
    "<h1> Từ cái file ban đầu, tạo ra cái file chỉ có dữ liệu của Sàn HOSE và cái file chỉ có dữ liệu của sàn HNX</h1>"
   ]
  },
  {
   "cell_type": "code",
   "execution_count": 8,
   "metadata": {},
   "outputs": [],
   "source": [
    "df_hose = df[df[\"Sàn\"] == \"HOSE\"]\n",
    "df_hnx = df[df[\"Sàn\"] == \"HNX\"]\n",
    "\n",
    "df_hose.to_csv(\"HOSE.csv\", index=False, encoding=\"utf-8\")\n",
    "df_hnx.to_csv(\"HNX.csv\", index=False, encoding=\"utf-8\")"
   ]
  },
  {
   "cell_type": "markdown",
   "metadata": {},
   "source": [
    "dữ liệu của sàn HOSE lưu vào file HOSE.csv <br>\n",
    "dữ liệu của sàn HNX lưu vào file HNX.csv\n",
    "\n"
   ]
  },
  {
   "cell_type": "markdown",
   "metadata": {},
   "source": [
    "Chỉ lấy các cột cần thiết để tính toán"
   ]
  },
  {
   "cell_type": "code",
   "execution_count": 11,
   "metadata": {},
   "outputs": [],
   "source": [
    "df_hose_selected = df_hose[[\"ID\", \"Company\", \"Sàn\", \"Year\", \"ebit\", \"dividendpaid\"]]\n",
    "\n",
    "df_hose_selected.to_csv(\"analysis_HOSE.csv\", index=False, encoding=\"utf-8\")"
   ]
  },
  {
   "cell_type": "code",
   "execution_count": 12,
   "metadata": {},
   "outputs": [
    {
     "name": "stdout",
     "output_type": "stream",
     "text": [
      "<class 'pandas.core.frame.DataFrame'>\n",
      "Index: 132 entries, 0 to 225\n",
      "Data columns (total 6 columns):\n",
      " #   Column        Non-Null Count  Dtype \n",
      "---  ------        --------------  ----- \n",
      " 0   ID            132 non-null    object\n",
      " 1   Company       132 non-null    object\n",
      " 2   Sàn           132 non-null    object\n",
      " 3   Year          132 non-null    int64 \n",
      " 4   ebit          132 non-null    int64 \n",
      " 5   dividendpaid  132 non-null    int64 \n",
      "dtypes: int64(3), object(3)\n",
      "memory usage: 7.2+ KB\n"
     ]
    }
   ],
   "source": [
    "df_hose_selected.info()"
   ]
  },
  {
   "cell_type": "markdown",
   "metadata": {},
   "source": [
    "<h1>Đã có HOSE</h1>"
   ]
  },
  {
   "cell_type": "markdown",
   "metadata": {},
   "source": [
    "## Linear Regression "
   ]
  },
  {
   "cell_type": "markdown",
   "metadata": {},
   "source": [
    "df_hose_selectef là biến chứa dữ liệu cần tính\n"
   ]
  },
  {
   "cell_type": "markdown",
   "metadata": {},
   "source": [
    "<ul>\n",
    "    <li><strong>ID</strong>:\n",
    "        <ul>\n",
    "            <li>Đây là mã nhận dạng duy nhất cho từng công ty trong dữ liệu.</li>\n",
    "            <li>Loại dữ liệu: <code>object</code> (có thể là chuỗi ký tự hoặc số nhưng được lưu dưới dạng chuỗi).</li>\n",
    "            <li><strong>Ý nghĩa</strong>: Dùng để xác định từng công ty trong tập dữ liệu và tránh trùng lặp giữa các công ty.</li>\n",
    "        </ul>\n",
    "    </li>\n",
    "    <li><strong>Company</strong>:\n",
    "        <ul>\n",
    "            <li>Tên của công ty.</li>\n",
    "            <li>Loại dữ liệu: <code>object</code>.</li>\n",
    "            <li><strong>Ý nghĩa</strong>: Cho biết tên của công ty, giúp nhận dạng dễ dàng hơn khi phân tích.</li>\n",
    "        </ul>\n",
    "    </li>\n",
    "    <li><strong>Sàn</strong>:\n",
    "        <ul>\n",
    "            <li>Sàn giao dịch mà công ty đang được niêm yết, ví dụ: \"HOSE\" (Sở Giao dịch Chứng khoán TP.HCM).</li>\n",
    "            <li>Loại dữ liệu: <code>object</code>.</li>\n",
    "            <li><strong>Ý nghĩa</strong>: Xác định thị trường hoặc sàn giao dịch chứng khoán mà công ty niêm yết. Việc này quan trọng khi so sánh các công ty trên cùng sàn hoặc giữa các sàn khác nhau.</li>\n",
    "        </ul>\n",
    "    </li>\n",
    "    <li><strong>Year</strong>:\n",
    "        <ul>\n",
    "            <li>Năm của dữ liệu tài chính được ghi nhận.</li>\n",
    "            <li>Loại dữ liệu: <code>int64</code>.</li>\n",
    "            <li><strong>Ý nghĩa</strong>: Cho biết thời điểm (theo năm) của các chỉ số tài chính, giúp theo dõi và phân tích xu hướng theo thời gian.</li>\n",
    "        </ul>\n",
    "    </li>\n",
    "    <li><strong>ebit</strong> (Earnings Before Interest and Taxes):\n",
    "        <ul>\n",
    "            <li>Lợi nhuận trước lãi vay và thuế.</li>\n",
    "            <li>Loại dữ liệu: <code>int64</code>.</li>\n",
    "            <li><strong>Ý nghĩa</strong>: Đây là một thước đo về hiệu quả hoạt động của công ty, cho biết công ty tạo ra bao nhiêu lợi nhuận từ hoạt động kinh doanh trước khi tính các chi phí lãi vay và thuế.</li>\n",
    "        </ul>\n",
    "    </li>\n",
    "    <li><strong>dividendpaid</strong>:\n",
    "        <ul>\n",
    "            <li>Số tiền cổ tức đã chi trả cho cổ đông.</li>\n",
    "            <li>Loại dữ liệu: <code>int64</code>.</li>\n",
    "            <li><strong>Ý nghĩa</strong>: Cho thấy công ty đã phân phối bao nhiêu lợi nhuận cho cổ đông, phản ánh chính sách cổ tức và khả năng tạo lợi nhuận của công ty.</li>\n",
    "        </ul>\n",
    "    </li>\n",
    "</ul>\n"
   ]
  },
  {
   "cell_type": "code",
   "execution_count": 14,
   "metadata": {},
   "outputs": [
    {
     "name": "stdout",
     "output_type": "stream",
     "text": [
      "               ebit  dividendpaid\n",
      "count  1.320000e+02  1.320000e+02\n",
      "mean   2.730072e+11 -1.326273e+11\n",
      "std    1.293363e+12  4.112056e+11\n",
      "min   -1.063000e+13 -3.382000e+12\n",
      "25%    2.445000e+10 -7.383500e+10\n",
      "50%    8.441000e+10 -1.037500e+10\n",
      "75%    3.421750e+11  0.000000e+00\n",
      "max    6.795000e+12  4.612050e+05\n"
     ]
    }
   ],
   "source": [
    "statistics = df_hose_selected[[\"ebit\", \"dividendpaid\"]].describe()\n",
    "print(statistics)"
   ]
  },
  {
   "cell_type": "markdown",
   "metadata": {},
   "source": [
    "Giải thích các thông số thống kê cho `ebit` và `dividendpaid`\n",
    "\n",
    "- **count**: Số lượng mẫu (132 mẫu) trong cả hai cột `ebit` và `dividendpaid`. Điều này có nghĩa là có 132 giá trị hợp lệ trong mỗi cột.\n",
    "\n",
    "- **mean**: Giá trị trung bình.\n",
    "  - **ebit**: Trung bình lợi nhuận trước lãi vay và thuế là khoảng 2.73 * 10¹¹ (273 tỷ).\n",
    "  - **dividendpaid**: Trung bình số tiền cổ tức chi trả là khoảng -1.33 * 10¹¹ (âm 132 tỷ). Số âm có thể chỉ ra rằng công ty đã trả ít hơn hoặc đã có các khoản chi khác làm giảm giá trị này.\n",
    "\n",
    "- **std**: Độ lệch chuẩn (standard deviation).\n",
    "  - **ebit**: 1.29 * 10¹² cho thấy lợi nhuận có sự phân tán cao quanh giá trị trung bình, phản ánh sự biến động lớn giữa các công ty.\n",
    "  - **dividendpaid**: 4.11 * 10¹¹ cũng có độ lệch chuẩn cao, cho thấy sự biến động lớn trong số tiền cổ tức chi trả.\n",
    "\n",
    "- **min**: Giá trị nhỏ nhất trong mỗi cột.\n",
    "  - **ebit**: -1.063 * 10¹³, chỉ ra giá trị thấp nhất (âm) trong lợi nhuận trước lãi vay và thuế.\n",
    "  - **dividendpaid**: -3.38 * 10¹², chỉ ra giá trị âm lớn nhất ở cột cổ tức, cho thấy có thể một công ty chịu lỗ hoặc có chi phí lớn liên quan đến cổ tức.\n",
    "\n",
    "- **25% (Q1)**: Phân vị thứ nhất, chỉ ra rằng 25% giá trị trong mỗi cột là nhỏ hơn hoặc bằng giá trị này.\n",
    "  - **ebit**: 2.445 * 10¹⁰.\n",
    "  - **dividendpaid**: -7.38 * 10¹⁰.\n",
    "\n",
    "- **50% (Median)**: Phân vị thứ hai hoặc giá trị trung vị.\n",
    "  - **ebit**: 8.441 * 10¹⁰, là mức lợi nhuận trung bình của các công ty.\n",
    "  - **dividendpaid**: -1.037 * 10¹⁰, là mức chi trả cổ tức trung bình, cũng là âm.\n",
    "\n",
    "- **75% (Q3)**: Phân vị thứ ba, chỉ ra rằng 75% giá trị trong mỗi cột là nhỏ hơn hoặc bằng giá trị này.\n",
    "  - **ebit**: 3.42 * 10¹¹.\n",
    "  - **dividendpaid**: 0, có nghĩa là 75% giá trị cổ tức nằm ở mức không chi trả hoặc có chi trả không đáng kể.\n",
    "\n",
    "- **max**: Giá trị lớn nhất trong mỗi cột.\n",
    "  - **ebit**: 6.795 * 10¹², chỉ ra lợi nhuận cao nhất trước lãi vay và thuế của một công ty.\n",
    "  - **dividendpaid**: 4.612 * 10⁵, là mức cao nhất của cổ tức được chi trả.\n",
    "\n",
    "Những thông số này cho thấy bức tranh tổng quan về phân phối dữ liệu của `ebit` và `dividendpaid`. Giá trị âm trong `dividendpaid` có thể là do một số công ty chịu lỗ hoặc không chi trả cổ tức.\n"
   ]
  },
  {
   "cell_type": "code",
   "execution_count": 35,
   "metadata": {},
   "outputs": [],
   "source": [
    "import pandas as pd\n",
    "import matplotlib.pyplot as plt\n",
    "import seaborn as sns\n",
    "from sklearn.linear_model import LinearRegression\n"
   ]
  },
  {
   "cell_type": "markdown",
   "metadata": {},
   "source": [
    "<h1>Tính toán dự đoán ebit từ dividendpaid</h1>"
   ]
  },
  {
   "cell_type": "code",
   "execution_count": 39,
   "metadata": {},
   "outputs": [
    {
     "data": {
      "text/html": [
       "<style>#sk-container-id-4 {color: black;background-color: white;}#sk-container-id-4 pre{padding: 0;}#sk-container-id-4 div.sk-toggleable {background-color: white;}#sk-container-id-4 label.sk-toggleable__label {cursor: pointer;display: block;width: 100%;margin-bottom: 0;padding: 0.3em;box-sizing: border-box;text-align: center;}#sk-container-id-4 label.sk-toggleable__label-arrow:before {content: \"▸\";float: left;margin-right: 0.25em;color: #696969;}#sk-container-id-4 label.sk-toggleable__label-arrow:hover:before {color: black;}#sk-container-id-4 div.sk-estimator:hover label.sk-toggleable__label-arrow:before {color: black;}#sk-container-id-4 div.sk-toggleable__content {max-height: 0;max-width: 0;overflow: hidden;text-align: left;background-color: #f0f8ff;}#sk-container-id-4 div.sk-toggleable__content pre {margin: 0.2em;color: black;border-radius: 0.25em;background-color: #f0f8ff;}#sk-container-id-4 input.sk-toggleable__control:checked~div.sk-toggleable__content {max-height: 200px;max-width: 100%;overflow: auto;}#sk-container-id-4 input.sk-toggleable__control:checked~label.sk-toggleable__label-arrow:before {content: \"▾\";}#sk-container-id-4 div.sk-estimator input.sk-toggleable__control:checked~label.sk-toggleable__label {background-color: #d4ebff;}#sk-container-id-4 div.sk-label input.sk-toggleable__control:checked~label.sk-toggleable__label {background-color: #d4ebff;}#sk-container-id-4 input.sk-hidden--visually {border: 0;clip: rect(1px 1px 1px 1px);clip: rect(1px, 1px, 1px, 1px);height: 1px;margin: -1px;overflow: hidden;padding: 0;position: absolute;width: 1px;}#sk-container-id-4 div.sk-estimator {font-family: monospace;background-color: #f0f8ff;border: 1px dotted black;border-radius: 0.25em;box-sizing: border-box;margin-bottom: 0.5em;}#sk-container-id-4 div.sk-estimator:hover {background-color: #d4ebff;}#sk-container-id-4 div.sk-parallel-item::after {content: \"\";width: 100%;border-bottom: 1px solid gray;flex-grow: 1;}#sk-container-id-4 div.sk-label:hover label.sk-toggleable__label {background-color: #d4ebff;}#sk-container-id-4 div.sk-serial::before {content: \"\";position: absolute;border-left: 1px solid gray;box-sizing: border-box;top: 0;bottom: 0;left: 50%;z-index: 0;}#sk-container-id-4 div.sk-serial {display: flex;flex-direction: column;align-items: center;background-color: white;padding-right: 0.2em;padding-left: 0.2em;position: relative;}#sk-container-id-4 div.sk-item {position: relative;z-index: 1;}#sk-container-id-4 div.sk-parallel {display: flex;align-items: stretch;justify-content: center;background-color: white;position: relative;}#sk-container-id-4 div.sk-item::before, #sk-container-id-4 div.sk-parallel-item::before {content: \"\";position: absolute;border-left: 1px solid gray;box-sizing: border-box;top: 0;bottom: 0;left: 50%;z-index: -1;}#sk-container-id-4 div.sk-parallel-item {display: flex;flex-direction: column;z-index: 1;position: relative;background-color: white;}#sk-container-id-4 div.sk-parallel-item:first-child::after {align-self: flex-end;width: 50%;}#sk-container-id-4 div.sk-parallel-item:last-child::after {align-self: flex-start;width: 50%;}#sk-container-id-4 div.sk-parallel-item:only-child::after {width: 0;}#sk-container-id-4 div.sk-dashed-wrapped {border: 1px dashed gray;margin: 0 0.4em 0.5em 0.4em;box-sizing: border-box;padding-bottom: 0.4em;background-color: white;}#sk-container-id-4 div.sk-label label {font-family: monospace;font-weight: bold;display: inline-block;line-height: 1.2em;}#sk-container-id-4 div.sk-label-container {text-align: center;}#sk-container-id-4 div.sk-container {/* jupyter's `normalize.less` sets `[hidden] { display: none; }` but bootstrap.min.css set `[hidden] { display: none !important; }` so we also need the `!important` here to be able to override the default hidden behavior on the sphinx rendered scikit-learn.org. See: https://github.com/scikit-learn/scikit-learn/issues/21755 */display: inline-block !important;position: relative;}#sk-container-id-4 div.sk-text-repr-fallback {display: none;}</style><div id=\"sk-container-id-4\" class=\"sk-top-container\"><div class=\"sk-text-repr-fallback\"><pre>LinearRegression()</pre><b>In a Jupyter environment, please rerun this cell to show the HTML representation or trust the notebook. <br />On GitHub, the HTML representation is unable to render, please try loading this page with nbviewer.org.</b></div><div class=\"sk-container\" hidden><div class=\"sk-item\"><div class=\"sk-estimator sk-toggleable\"><input class=\"sk-toggleable__control sk-hidden--visually\" id=\"sk-estimator-id-4\" type=\"checkbox\" checked><label for=\"sk-estimator-id-4\" class=\"sk-toggleable__label sk-toggleable__label-arrow\">LinearRegression</label><div class=\"sk-toggleable__content\"><pre>LinearRegression()</pre></div></div></div></div></div>"
      ],
      "text/plain": [
       "LinearRegression()"
      ]
     },
     "execution_count": 39,
     "metadata": {},
     "output_type": "execute_result"
    }
   ],
   "source": [
    "# Chọn cột ebit và dividendpaid để làm hồi quy tuyến tính\n",
    "X = df_hose_selected[[\"dividendpaid\"]]  # Dữ liệu đầu vào (biến độc lập)\n",
    "y = df_hose_selected[\"ebit\"]            # Dữ liệu đầu ra (biến phụ thuộc)\n",
    "\n",
    "model = LinearRegression()\n",
    "model.fit(X, y)"
   ]
  },
  {
   "cell_type": "markdown",
   "metadata": {},
   "source": [
    "<h1>Biểu đồ hồi quy</h1>"
   ]
  },
  {
   "cell_type": "code",
   "execution_count": 41,
   "metadata": {},
   "outputs": [
    {
     "data": {
      "image/png": "[encoded data removed]",
      "text/plain": [
       "<Figure size 1000x600 with 1 Axes>"
      ]
     },
     "metadata": {},
     "output_type": "display_data"
    }
   ],
   "source": [
    "# Dự đoán giá trị ebit từ dividendpaid\n",
    "y_pred = model.predict(X)\n",
    "\n",
    "# Vẽ biểu đồ scatter và đường hồi quy\n",
    "plt.figure(figsize=(10, 6))\n",
    "\n",
    "# Biểu đồ scatter\n",
    "plt.scatter(X, y, color='blue', label='Data Points')\n",
    "\n",
    "# Vẽ đường hồi quy\n",
    "plt.plot(X, y_pred, color='red', label='Regression Line')\n",
    "\n",
    "# Thêm tiêu đề và nhãn trục\n",
    "plt.title('Scatter Plot with Regression Line (Dividendpaid vs EBIT)', fontsize=14)\n",
    "plt.xlabel('Dividend Paid', fontsize=12)\n",
    "plt.ylabel('EBIT', fontsize=12)\n",
    "\n",
    "# Thêm lưới và hiển thị trục\n",
    "plt.grid(True)\n",
    "plt.legend()\n",
    "\n",
    "# Hiển thị biểu đồ\n",
    "plt.show()"
   ]
  },
  {
   "cell_type": "code",
   "execution_count": null,
   "metadata": {},
   "outputs": [],
   "source": [
    "# Tính toán dự đoán ebit từ dividendpaid\n",
    "df_hose_selected.loc[:, \"LR ebit\"] = model.predict(X)"
   ]
  },
  {
   "cell_type": "markdown",
   "metadata": {},
   "source": [
    "<h1>Tính toán dự đoán dividendpaid từ ebit</h1>"
   ]
  },
  {
   "cell_type": "code",
   "execution_count": 42,
   "metadata": {},
   "outputs": [],
   "source": [
    "# Chọn cột ebit và dividendpaid để làm hồi quy tuyến tính\n",
    "X = df_hose_selected[[\"ebit\"]]  # Dữ liệu đầu vào (biến độc lập) là 'ebit'\n",
    "y = df_hose_selected[\"dividendpaid\"]  # Dữ liệu đầu ra (biến phụ thuộc) là 'dividendpaid'"
   ]
  },
  {
   "cell_type": "code",
   "execution_count": 43,
   "metadata": {},
   "outputs": [
    {
     "data": {
      "text/html": [
       "<style>#sk-container-id-5 {color: black;background-color: white;}#sk-container-id-5 pre{padding: 0;}#sk-container-id-5 div.sk-toggleable {background-color: white;}#sk-container-id-5 label.sk-toggleable__label {cursor: pointer;display: block;width: 100%;margin-bottom: 0;padding: 0.3em;box-sizing: border-box;text-align: center;}#sk-container-id-5 label.sk-toggleable__label-arrow:before {content: \"▸\";float: left;margin-right: 0.25em;color: #696969;}#sk-container-id-5 label.sk-toggleable__label-arrow:hover:before {color: black;}#sk-container-id-5 div.sk-estimator:hover label.sk-toggleable__label-arrow:before {color: black;}#sk-container-id-5 div.sk-toggleable__content {max-height: 0;max-width: 0;overflow: hidden;text-align: left;background-color: #f0f8ff;}#sk-container-id-5 div.sk-toggleable__content pre {margin: 0.2em;color: black;border-radius: 0.25em;background-color: #f0f8ff;}#sk-container-id-5 input.sk-toggleable__control:checked~div.sk-toggleable__content {max-height: 200px;max-width: 100%;overflow: auto;}#sk-container-id-5 input.sk-toggleable__control:checked~label.sk-toggleable__label-arrow:before {content: \"▾\";}#sk-container-id-5 div.sk-estimator input.sk-toggleable__control:checked~label.sk-toggleable__label {background-color: #d4ebff;}#sk-container-id-5 div.sk-label input.sk-toggleable__control:checked~label.sk-toggleable__label {background-color: #d4ebff;}#sk-container-id-5 input.sk-hidden--visually {border: 0;clip: rect(1px 1px 1px 1px);clip: rect(1px, 1px, 1px, 1px);height: 1px;margin: -1px;overflow: hidden;padding: 0;position: absolute;width: 1px;}#sk-container-id-5 div.sk-estimator {font-family: monospace;background-color: #f0f8ff;border: 1px dotted black;border-radius: 0.25em;box-sizing: border-box;margin-bottom: 0.5em;}#sk-container-id-5 div.sk-estimator:hover {background-color: #d4ebff;}#sk-container-id-5 div.sk-parallel-item::after {content: \"\";width: 100%;border-bottom: 1px solid gray;flex-grow: 1;}#sk-container-id-5 div.sk-label:hover label.sk-toggleable__label {background-color: #d4ebff;}#sk-container-id-5 div.sk-serial::before {content: \"\";position: absolute;border-left: 1px solid gray;box-sizing: border-box;top: 0;bottom: 0;left: 50%;z-index: 0;}#sk-container-id-5 div.sk-serial {display: flex;flex-direction: column;align-items: center;background-color: white;padding-right: 0.2em;padding-left: 0.2em;position: relative;}#sk-container-id-5 div.sk-item {position: relative;z-index: 1;}#sk-container-id-5 div.sk-parallel {display: flex;align-items: stretch;justify-content: center;background-color: white;position: relative;}#sk-container-id-5 div.sk-item::before, #sk-container-id-5 div.sk-parallel-item::before {content: \"\";position: absolute;border-left: 1px solid gray;box-sizing: border-box;top: 0;bottom: 0;left: 50%;z-index: -1;}#sk-container-id-5 div.sk-parallel-item {display: flex;flex-direction: column;z-index: 1;position: relative;background-color: white;}#sk-container-id-5 div.sk-parallel-item:first-child::after {align-self: flex-end;width: 50%;}#sk-container-id-5 div.sk-parallel-item:last-child::after {align-self: flex-start;width: 50%;}#sk-container-id-5 div.sk-parallel-item:only-child::after {width: 0;}#sk-container-id-5 div.sk-dashed-wrapped {border: 1px dashed gray;margin: 0 0.4em 0.5em 0.4em;box-sizing: border-box;padding-bottom: 0.4em;background-color: white;}#sk-container-id-5 div.sk-label label {font-family: monospace;font-weight: bold;display: inline-block;line-height: 1.2em;}#sk-container-id-5 div.sk-label-container {text-align: center;}#sk-container-id-5 div.sk-container {/* jupyter's `normalize.less` sets `[hidden] { display: none; }` but bootstrap.min.css set `[hidden] { display: none !important; }` so we also need the `!important` here to be able to override the default hidden behavior on the sphinx rendered scikit-learn.org. See: https://github.com/scikit-learn/scikit-learn/issues/21755 */display: inline-block !important;position: relative;}#sk-container-id-5 div.sk-text-repr-fallback {display: none;}</style><div id=\"sk-container-id-5\" class=\"sk-top-container\"><div class=\"sk-text-repr-fallback\"><pre>LinearRegression()</pre><b>In a Jupyter environment, please rerun this cell to show the HTML representation or trust the notebook. <br />On GitHub, the HTML representation is unable to render, please try loading this page with nbviewer.org.</b></div><div class=\"sk-container\" hidden><div class=\"sk-item\"><div class=\"sk-estimator sk-toggleable\"><input class=\"sk-toggleable__control sk-hidden--visually\" id=\"sk-estimator-id-5\" type=\"checkbox\" checked><label for=\"sk-estimator-id-5\" class=\"sk-toggleable__label sk-toggleable__label-arrow\">LinearRegression</label><div class=\"sk-toggleable__content\"><pre>LinearRegression()</pre></div></div></div></div></div>"
      ],
      "text/plain": [
       "LinearRegression()"
      ]
     },
     "execution_count": 43,
     "metadata": {},
     "output_type": "execute_result"
    }
   ],
   "source": [
    "model = LinearRegression()\n",
    "model.fit(X, y)"
   ]
  },
  {
   "cell_type": "markdown",
   "metadata": {},
   "source": [
    "<h1>Biểu đồ hồi quy </h1>"
   ]
  },
  {
   "cell_type": "code",
   "execution_count": 44,
   "metadata": {},
   "outputs": [
    {
     "data": {
      "image/png": "[encoded data removed]",
      "text/plain": [
       "<Figure size 1000x600 with 1 Axes>"
      ]
     },
     "metadata": {},
     "output_type": "display_data"
    }
   ],
   "source": [
    "y_pred = model.predict(X)\n",
    "\n",
    "# Vẽ biểu đồ scatter và đường hồi quy\n",
    "plt.figure(figsize=(10, 6))\n",
    "\n",
    "# Biểu đồ scatter\n",
    "plt.scatter(X, y, color='blue', label='Data Points')\n",
    "\n",
    "# Vẽ đường hồi quy\n",
    "plt.plot(X, y_pred, color='red', label='Regression Line')\n",
    "\n",
    "# Thêm tiêu đề và nhãn trục\n",
    "plt.title('Scatter Plot with Regression Line (EBIT vs Dividendpaid)', fontsize=14)\n",
    "plt.xlabel('EBIT', fontsize=12)\n",
    "plt.ylabel('Dividend Paid', fontsize=12)\n",
    "\n",
    "# Thêm lưới và hiển thị trục\n",
    "plt.grid(True)\n",
    "plt.legend()\n",
    "\n",
    "# Hiển thị biểu đồ\n",
    "plt.show()"
   ]
  },
  {
   "cell_type": "markdown",
   "metadata": {},
   "source": [
    "<span>Kết Luận Tính toán dự đoán dividendpaid từ ebit </span>\n",
    "Các điểm gần và xa đường hồi quy\n",
    "\n",
    "*   **Các điểm gần đường hồi quy**:\n",
    "    *   Điều này cho thấy mô hình hồi quy tuyến tính có thể giải thích khá tốt mối quan hệ giữa `ebit` và `dividendpaid` cho phần lớn các quan sát.\n",
    "    *   Khi các điểm nằm gần đường hồi quy, điều này đồng nghĩa với việc dự đoán của mô hình (đường hồi quy) gần với giá trị thực tế (các điểm dữ liệu), tức là sai số nhỏ.\n",
    "\n",
    "*   **Các điểm xa đường hồi quy**:\n",
    "    *   Các điểm này gọi là **outliers** (dữ liệu ngoại lai) hoặc **influential points** (điểm có ảnh hưởng mạnh). Đây là các điểm mà mô hình không thể giải thích tốt bằng hồi quy tuyến tính.\n",
    "    *   Khi một hoặc vài điểm nằm xa đường hồi quy, điều này có thể cho thấy rằng mối quan hệ giữa các biến không hoàn toàn là tuyến tính hoặc có những yếu tố khác chưa được xem xét trong mô hình.\n",
    "    *   Những điểm này có thể làm giảm độ chính xác của mô hình và ảnh hưởng đến dự đoán chung, đặc biệt nếu mô hình không được điều chỉnh để xử lý ngoại lệ.\n",
    "\n"
   ]
  },
  {
   "cell_type": "code",
   "execution_count": 29,
   "metadata": {},
   "outputs": [],
   "source": [
    "df_hose_selected.loc[:, \"LR div\"] = model.predict(X)"
   ]
  },
  {
   "cell_type": "code",
   "execution_count": 33,
   "metadata": {},
   "outputs": [
    {
     "name": "stdout",
     "output_type": "stream",
     "text": [
      "<class 'pandas.core.frame.DataFrame'>\n",
      "Index: 132 entries, 0 to 225\n",
      "Data columns (total 8 columns):\n",
      " #   Column        Non-Null Count  Dtype  \n",
      "---  ------        --------------  -----  \n",
      " 0   ID            132 non-null    object \n",
      " 1   Company       132 non-null    object \n",
      " 2   Sàn           132 non-null    object \n",
      " 3   Year          132 non-null    int64  \n",
      " 4   ebit          132 non-null    int64  \n",
      " 5   dividendpaid  132 non-null    int64  \n",
      " 6   LR ebit       132 non-null    float64\n",
      " 7   LR div        132 non-null    float64\n",
      "dtypes: float64(2), int64(3), object(3)\n",
      "memory usage: 9.3+ KB\n"
     ]
    }
   ],
   "source": [
    "df_hose_selected.info()"
   ]
  },
  {
   "cell_type": "code",
   "execution_count": 34,
   "metadata": {},
   "outputs": [],
   "source": [
    "# Lưu DataFrame df_hose_selected vào file CSV\n",
    "df_hose_selected.to_csv('final_hose.csv', index=False)\n"
   ]
  }
 ],
 "metadata": {
  "kernelspec": {
   "display_name": "base",
   "language": "python",
   "name": "python3"
  },
  "language_info": {
   "codemirror_mode": {
    "name": "ipython",
    "version": 3
   },
   "file_extension": ".py",
   "mimetype": "text/x-python",
   "name": "python",
   "nbconvert_exporter": "python",
   "pygments_lexer": "ipython3",
   "version": "3.11.7"
  }
 },
 "nbformat": 4,
 "nbformat_minor": 2
}
